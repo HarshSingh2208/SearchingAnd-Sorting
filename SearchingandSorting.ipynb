{
 "cells": [
  {
   "cell_type": "markdown",
   "id": "c9d995c5",
   "metadata": {},
   "source": [
    "Binary Search"
   ]
  },
  {
   "cell_type": "code",
   "execution_count": 2,
   "id": "8757635e",
   "metadata": {},
   "outputs": [
    {
     "data": {
      "text/plain": [
       "6"
      ]
     },
     "execution_count": 2,
     "metadata": {},
     "output_type": "execute_result"
    }
   ],
   "source": [
    "def BinarySearch(arr,element):\n",
    "    start=0\n",
    "    end=len(arr)-1\n",
    "    \n",
    "    while start<=end:\n",
    "        mid=(start+end)//2\n",
    "        if arr[mid]==element:\n",
    "            return mid\n",
    "        elif arr[mid]<element:\n",
    "            start=mid+1\n",
    "        else:\n",
    "            end=mid-1\n",
    "    return -1\n",
    "\n",
    "li1=[1,2,3,4,5,6,7]\n",
    "BinarySearch(li1,7)"
   ]
  },
  {
   "cell_type": "markdown",
   "id": "083eda70",
   "metadata": {},
   "source": [
    "Selection Sort"
   ]
  },
  {
   "cell_type": "code",
   "execution_count": 14,
   "id": "79efb997",
   "metadata": {},
   "outputs": [
    {
     "name": "stdout",
     "output_type": "stream",
     "text": [
      "[2, 3, 4, 5, 6, 8, 9]\n"
     ]
    }
   ],
   "source": [
    "def SelectionSort(arr):\n",
    "    for i in range(0,len(arr)-1):\n",
    "        minIndex=i\n",
    "        for j in range(i+1,len(arr)):\n",
    "            if arr[j]<arr[minIndex]:\n",
    "                minIndex=j\n",
    "        arr[i],arr[minIndex]=arr[minIndex],arr[i]\n",
    "            \n",
    "li1=[4,2,6,3,5,9,8]\n",
    "SelectionSort(li1)\n",
    "print(li1)"
   ]
  },
  {
   "cell_type": "markdown",
   "id": "f3d44eed",
   "metadata": {},
   "source": [
    "Bubble Sort"
   ]
  },
  {
   "cell_type": "code",
   "execution_count": 15,
   "id": "d886cbcc",
   "metadata": {},
   "outputs": [
    {
     "name": "stdout",
     "output_type": "stream",
     "text": [
      "[2, 3, 4, 5, 6, 8, 9]\n"
     ]
    }
   ],
   "source": [
    "def BubbleSort(arr):\n",
    "    for i in range(0,len(arr)-1):\n",
    "        for j in range(i+1,len(arr)):\n",
    "            if(arr[i]>arr[j]):\n",
    "                arr[i],arr[j]=arr[j],arr[i]\n",
    "    \n",
    "    \n",
    "li1=[4,2,6,3,5,9,8]\n",
    "SelectionSort(li1)\n",
    "print(li1)"
   ]
  },
  {
   "cell_type": "markdown",
   "id": "f955d543",
   "metadata": {},
   "source": [
    "Insertion Sort"
   ]
  },
  {
   "cell_type": "code",
   "execution_count": 16,
   "id": "1fd92239",
   "metadata": {},
   "outputs": [
    {
     "name": "stdout",
     "output_type": "stream",
     "text": [
      "[2, 3, 4, 5, 6, 8, 9]\n"
     ]
    }
   ],
   "source": [
    "def InsertionSort(arr):\n",
    "    length=len(arr)\n",
    "    for i in range(1,length):\n",
    "        j=i-1\n",
    "        temp=arr[i]\n",
    "        while(j>=0 and arr[j]>temp):\n",
    "            arr[j+1]=arr[j]\n",
    "            j=j-1\n",
    "        arr[j+1]=temp\n",
    "        \n",
    "li1=[4,2,6,3,5,9,8]\n",
    "InsertionSort(li1)\n",
    "print(li1)"
   ]
  },
  {
   "cell_type": "markdown",
   "id": "dbcdf56d",
   "metadata": {},
   "source": [
    "Merge Two Sorted Array"
   ]
  },
  {
   "cell_type": "code",
   "execution_count": 22,
   "id": "a3318254",
   "metadata": {},
   "outputs": [
    {
     "name": "stdout",
     "output_type": "stream",
     "text": [
      "[1, 2, 3, 4, 5, 7, 8, 9, 10, 11]\n"
     ]
    }
   ],
   "source": [
    "def mergeTwoSortedArray(arr1,arr2):\n",
    "    arr3=[]\n",
    "    length1=len(arr1)-1\n",
    "    length2=len(arr2)-1\n",
    "    k=length1+length2\n",
    "    x=0\n",
    "    i=0\n",
    "    j=0\n",
    "    while(i<=length1 and j<=length2):\n",
    "        if(arr1[i]<=arr2[j]):\n",
    "            arr3.append(arr1[i])\n",
    "            i=i+1\n",
    "        else:\n",
    "            arr3.append(arr2[j])\n",
    "            j=j+1\n",
    "    while(i<=length1):\n",
    "        arr3.append(arr1[i])\n",
    "        i=i+1\n",
    "    while(j<=length2):\n",
    "        arr3.append(arr2[j])\n",
    "        j=j+1\n",
    "       \n",
    "    return arr3\n",
    "\n",
    "arr1=[1,3,5,8,9]\n",
    "arr2=[2,4,7,10,11]\n",
    "arr3=mergeTwoSortedArray(arr1,arr2)\n",
    "print(arr3)       \n"
   ]
  },
  {
   "cell_type": "markdown",
   "id": "e1e15a2f",
   "metadata": {},
   "source": [
    "Push Zero to theEnd"
   ]
  },
  {
   "cell_type": "code",
   "execution_count": 24,
   "id": "dfc1e0af",
   "metadata": {},
   "outputs": [
    {
     "name": "stdout",
     "output_type": "stream",
     "text": [
      "[2, 1, 3, 0, 0, 0, 0]\n"
     ]
    }
   ],
   "source": [
    "def push(arr):\n",
    "    current=0\n",
    "    nonZeroPos=0\n",
    "    while current<len(arr):\n",
    "        if(arr[current]!=0):\n",
    "            arr[current],arr[nonZeroPos]=arr[nonZeroPos],arr[current]  #here not using nonZeroPos+1 because on first index 2 is non zero and swapping will happen and nonzeropos will increment by 1  and if atrting is zero then its fine \n",
    "            nonZeroPos=nonZeroPos+1\n",
    "        current=current+1\n",
    "\n",
    "li1=[2,0,0,1,3,0,0]\n",
    "push(li1)\n",
    "print(li1)  "
   ]
  },
  {
   "cell_type": "markdown",
   "id": "a73d0c48",
   "metadata": {},
   "source": [
    "Rotate Array"
   ]
  },
  {
   "cell_type": "code",
   "execution_count": 34,
   "id": "6a02d539",
   "metadata": {},
   "outputs": [
    {
     "name": "stdout",
     "output_type": "stream",
     "text": [
      "[3, 4, 5, 6, 1, 2]\n"
     ]
    }
   ],
   "source": [
    "def reverse(li,start,end):\n",
    "    while start<=end:\n",
    "        li[start],li[end]=li[end],li[start]\n",
    "        start=start+1\n",
    "        end=end-1\n",
    "\n",
    "def rotate(arr,length,k):\n",
    "    \n",
    "    \n",
    "    reverse(arr,0,length)\n",
    "    reverse(arr,0,length-k)\n",
    "    reverse(arr,length-k+1,length)\n",
    "    \n",
    "    \n",
    "arr1=[1,2,3,4,5,6]\n",
    "rotate(arr1,len(arr1)-1,2)\n",
    "print(arr1)\n",
    "\n",
    "\n",
    "    \n",
    "    "
   ]
  },
  {
   "cell_type": "markdown",
   "id": "bc98bf63",
   "metadata": {},
   "source": [
    "Second Largest Element"
   ]
  },
  {
   "cell_type": "code",
   "execution_count": 40,
   "id": "1e2e9799",
   "metadata": {},
   "outputs": [
    {
     "name": "stdout",
     "output_type": "stream",
     "text": [
      "5\n"
     ]
    }
   ],
   "source": [
    "import sys\n",
    "def SecondLargest(arr):\n",
    "    largest=-sys.maxsize - 1\n",
    "    sec_largest=-sys.maxsize - 1\n",
    "    for i in range(0,len(arr)):\n",
    "        if(arr[i]>largest):\n",
    "            sec_largest=largest\n",
    "            largest=arr[i]\n",
    "        elif(arr[i]<largest and arr[i]>sec_largest):\n",
    "            sec_largest=arr[i]\n",
    "    return sec_largest\n",
    "        \n",
    "arr1=[1,2,3,4,5,6]\n",
    "x=SecondLargest(arr1)\n",
    "print(x)   \n",
    "    "
   ]
  },
  {
   "cell_type": "markdown",
   "id": "e7659aa1",
   "metadata": {},
   "source": [
    "Check Rotate"
   ]
  },
  {
   "cell_type": "code",
   "execution_count": 43,
   "id": "e5b14580",
   "metadata": {},
   "outputs": [
    {
     "name": "stdout",
     "output_type": "stream",
     "text": [
      "3\n"
     ]
    }
   ],
   "source": [
    "def checkRotate(arr):\n",
    "    checker=arr[0]\n",
    "    count=0\n",
    "    for i in range(0,len(arr)):\n",
    "        if(arr[i]>=checker):\n",
    "            count+=1\n",
    "    if(checker==len(arr)):\n",
    "        return 0\n",
    "    else:\n",
    "        return len(arr)-count\n",
    "\n",
    "arr1=[5,6,7,8,9,2,3,4]\n",
    "x=checkRotate(arr1)\n",
    "print(x)   "
   ]
  },
  {
   "cell_type": "markdown",
   "id": "3804254f",
   "metadata": {},
   "source": [
    "Sort 0 1 2"
   ]
  },
  {
   "cell_type": "code",
   "execution_count": 44,
   "id": "25de373f",
   "metadata": {},
   "outputs": [
    {
     "data": {
      "text/plain": [
       "[2, 3, 4, 5, 6, 7, 8, 9]"
      ]
     },
     "execution_count": 44,
     "metadata": {},
     "output_type": "execute_result"
    }
   ],
   "source": [
    "arr1=[5,6,7,8,9,2,3,4]\n",
    "arr1.sort()\n",
    "arr1"
   ]
  },
  {
   "cell_type": "markdown",
   "id": "939e13c9",
   "metadata": {},
   "source": [
    "Addition Of Array"
   ]
  },
  {
   "cell_type": "code",
   "execution_count": 6,
   "id": "384a3125",
   "metadata": {},
   "outputs": [
    {
     "name": "stdout",
     "output_type": "stream",
     "text": [
      "[1, 0, 2, 2, 0]\n"
     ]
    }
   ],
   "source": [
    "def reverse(li,start,end):\n",
    "    while start<=end:\n",
    "        li[start],li[end]=li[end],li[start]\n",
    "        start=start+1\n",
    "        end=end-1\n",
    "\n",
    "def additionOfTwoArray(arr1,arr2):\n",
    "    len1=len(arr1)-1\n",
    "    len2=len(arr2)-1\n",
    "    arr3=[]\n",
    "    carry=0\n",
    "    while len1>=0 and len2>=0:\n",
    "        add=arr1[len1]+arr2[len2]+carry\n",
    "        carry=add//10\n",
    "        arr3.append(add%10)\n",
    "        len1=len1-1\n",
    "        len2=len2-1\n",
    "    while len1>=0:\n",
    "        if(carry>0):\n",
    "            add=carry+arr1[len1]\n",
    "            carry=add//10\n",
    "            arr3.append(add%10)\n",
    "        else:\n",
    "            arr3.append(arr1[len1])\n",
    "        len1=len1-1\n",
    "    while len2>=0:\n",
    "        if(carry>0):\n",
    "            add=carry+arr2[len2]\n",
    "            carry=add//10\n",
    "            aa3.append(add%10)\n",
    "        else:\n",
    "            arr3.append(arr2[len2])\n",
    "        len2=len2-1\n",
    "    if(carry>0):\n",
    "        arr3.append(carry)\n",
    "        \n",
    "    reverse(arr3,0,len(arr3)-1)\n",
    "    return arr3\n",
    "\n",
    "\n",
    "arr1=[9,7,6,1]\n",
    "arr2=[4,5,9]\n",
    "arr3=additionOfTwoArray(arr1,arr2)\n",
    "print(arr3)\n",
    "    \n",
    "        \n",
    "        \n",
    "        "
   ]
  },
  {
   "cell_type": "code",
   "execution_count": null,
   "id": "2ee99738",
   "metadata": {},
   "outputs": [],
   "source": []
  },
  {
   "cell_type": "code",
   "execution_count": null,
   "id": "070f45d3",
   "metadata": {},
   "outputs": [],
   "source": []
  }
 ],
 "metadata": {
  "kernelspec": {
   "display_name": "Python 3",
   "language": "python",
   "name": "python3"
  },
  "language_info": {
   "codemirror_mode": {
    "name": "ipython",
    "version": 3
   },
   "file_extension": ".py",
   "mimetype": "text/x-python",
   "name": "python",
   "nbconvert_exporter": "python",
   "pygments_lexer": "ipython3",
   "version": "3.7.7"
  }
 },
 "nbformat": 4,
 "nbformat_minor": 5
}
